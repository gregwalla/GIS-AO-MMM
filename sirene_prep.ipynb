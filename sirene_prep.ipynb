{
 "cells": [
  {
   "cell_type": "code",
   "execution_count": 1,
   "metadata": {},
   "outputs": [
    {
     "name": "stderr",
     "output_type": "stream",
     "text": [
      "/Users/gregs/devs/AdOffres/GIS-AO-AggloMon/venv/lib/python3.10/site-packages/geopandas/_compat.py:111: UserWarning: The Shapely GEOS version (3.10.2-CAPI-1.16.0) is incompatible with the GEOS version PyGEOS was compiled with (3.10.1-CAPI-1.16.0). Conversions between both will be slow.\n",
      "  warnings.warn(\n"
     ]
    }
   ],
   "source": [
    "#Libraries and display options\n",
    "#Target of the script is to reduce the size of the geolocalized Sirene file \n",
    "import pandas as pd\n",
    "import geopandas as gpd\n",
    "#we get rid of parquet warning\n",
    "import warnings; warnings.filterwarnings('ignore', message='.*initial implementation of Parquet.*')"
   ]
  },
  {
   "cell_type": "code",
   "execution_count": 2,
   "metadata": {},
   "outputs": [],
   "source": [
    "#Parameters \n",
    "data_sources = {\"in\": \"data/in/GeolocalisationEtablissement_Sirene_pour_etudes_statistiques_utf8.csv\", \n",
    "                \"intermediate\": \"data/interim/sirene_smaller.csv\", \n",
    "                \"out\": \"data/interim/sirene_filtered.pq\"\n",
    "}\n",
    "\n",
    "#File size barely fits into memory so do this step only if needed\n",
    "full_treatement = False\n",
    "\n",
    "#city context \n",
    "top_cities  = {'Montpellier' : ( 3.876716, 43.610769)}\n",
    "bbox = [43.2, 43.8, 3.3, 4.5 ]"
   ]
  },
  {
   "cell_type": "code",
   "execution_count": 3,
   "metadata": {},
   "outputs": [],
   "source": [
    "\n",
    "#We only keep a few columns to reduce the file size\n",
    "if full_treatement:\n",
    "\n",
    "\n",
    "    df = pd.read_csv(data_sources[\"in\"], sep=';')\n",
    "\n",
    "    cols_to_keep = ['siret','y_latitude', 'x_longitude']\n",
    "    df = df.loc[:, cols_to_keep]\n",
    "\n",
    "    df.to_csv(data_sources[\"intermediate\"], index = False)\n",
    "\n",
    "    del(df)"
   ]
  },
  {
   "cell_type": "code",
   "execution_count": 4,
   "metadata": {},
   "outputs": [
    {
     "data": {
      "text/html": [
       "<div>\n",
       "<style scoped>\n",
       "    .dataframe tbody tr th:only-of-type {\n",
       "        vertical-align: middle;\n",
       "    }\n",
       "\n",
       "    .dataframe tbody tr th {\n",
       "        vertical-align: top;\n",
       "    }\n",
       "\n",
       "    .dataframe thead th {\n",
       "        text-align: right;\n",
       "    }\n",
       "</style>\n",
       "<table border=\"1\" class=\"dataframe\">\n",
       "  <thead>\n",
       "    <tr style=\"text-align: right;\">\n",
       "      <th></th>\n",
       "      <th>siret</th>\n",
       "      <th>y_latitude</th>\n",
       "      <th>x_longitude</th>\n",
       "    </tr>\n",
       "  </thead>\n",
       "  <tbody>\n",
       "    <tr>\n",
       "      <th>0</th>\n",
       "      <td>82644042200010</td>\n",
       "      <td>48.480519</td>\n",
       "      <td>5.857737</td>\n",
       "    </tr>\n",
       "    <tr>\n",
       "      <th>1</th>\n",
       "      <td>40909561900014</td>\n",
       "      <td>48.187570</td>\n",
       "      <td>6.187949</td>\n",
       "    </tr>\n",
       "    <tr>\n",
       "      <th>2</th>\n",
       "      <td>91091485200017</td>\n",
       "      <td>48.073265</td>\n",
       "      <td>6.014435</td>\n",
       "    </tr>\n",
       "    <tr>\n",
       "      <th>3</th>\n",
       "      <td>78341973200020</td>\n",
       "      <td>48.016545</td>\n",
       "      <td>5.832695</td>\n",
       "    </tr>\n",
       "    <tr>\n",
       "      <th>4</th>\n",
       "      <td>32169992800016</td>\n",
       "      <td>48.212595</td>\n",
       "      <td>6.260872</td>\n",
       "    </tr>\n",
       "  </tbody>\n",
       "</table>\n",
       "</div>"
      ],
      "text/plain": [
       "            siret  y_latitude  x_longitude\n",
       "0  82644042200010   48.480519     5.857737\n",
       "1  40909561900014   48.187570     6.187949\n",
       "2  91091485200017   48.073265     6.014435\n",
       "3  78341973200020   48.016545     5.832695\n",
       "4  32169992800016   48.212595     6.260872"
      ]
     },
     "execution_count": 4,
     "metadata": {},
     "output_type": "execute_result"
    }
   ],
   "source": [
    "df = pd.read_csv(data_sources[\"intermediate\"])\n",
    "df.head()"
   ]
  },
  {
   "cell_type": "code",
   "execution_count": 5,
   "metadata": {},
   "outputs": [
    {
     "data": {
      "text/html": [
       "<div>\n",
       "<style scoped>\n",
       "    .dataframe tbody tr th:only-of-type {\n",
       "        vertical-align: middle;\n",
       "    }\n",
       "\n",
       "    .dataframe tbody tr th {\n",
       "        vertical-align: top;\n",
       "    }\n",
       "\n",
       "    .dataframe thead th {\n",
       "        text-align: right;\n",
       "    }\n",
       "</style>\n",
       "<table border=\"1\" class=\"dataframe\">\n",
       "  <thead>\n",
       "    <tr style=\"text-align: right;\">\n",
       "      <th></th>\n",
       "      <th>siret</th>\n",
       "      <th>y_latitude</th>\n",
       "      <th>x_longitude</th>\n",
       "    </tr>\n",
       "  </thead>\n",
       "  <tbody>\n",
       "    <tr>\n",
       "      <th>22472174</th>\n",
       "      <td>44911310900044</td>\n",
       "      <td>43.427691</td>\n",
       "      <td>3.300005</td>\n",
       "    </tr>\n",
       "    <tr>\n",
       "      <th>4735745</th>\n",
       "      <td>44847792700025</td>\n",
       "      <td>43.321289</td>\n",
       "      <td>3.300020</td>\n",
       "    </tr>\n",
       "    <tr>\n",
       "      <th>11814469</th>\n",
       "      <td>34121084700024</td>\n",
       "      <td>43.322189</td>\n",
       "      <td>3.300025</td>\n",
       "    </tr>\n",
       "    <tr>\n",
       "      <th>723190</th>\n",
       "      <td>42835880800015</td>\n",
       "      <td>43.322189</td>\n",
       "      <td>3.300025</td>\n",
       "    </tr>\n",
       "    <tr>\n",
       "      <th>10860389</th>\n",
       "      <td>89019614000010</td>\n",
       "      <td>43.323988</td>\n",
       "      <td>3.300034</td>\n",
       "    </tr>\n",
       "  </tbody>\n",
       "</table>\n",
       "</div>"
      ],
      "text/plain": [
       "                   siret  y_latitude  x_longitude\n",
       "22472174  44911310900044   43.427691     3.300005\n",
       "4735745   44847792700025   43.321289     3.300020\n",
       "11814469  34121084700024   43.322189     3.300025\n",
       "723190    42835880800015   43.322189     3.300025\n",
       "10860389  89019614000010   43.323988     3.300034"
      ]
     },
     "execution_count": 5,
     "metadata": {},
     "output_type": "execute_result"
    }
   ],
   "source": [
    "#We  filter out based on lat , lon \n",
    "\n",
    "df = df.sort_values(by=\"y_latitude\")\n",
    "\n",
    "df = df.loc[df[\"y_latitude\"] < bbox[1] , : ]\n",
    "df = df.loc[df[\"y_latitude\"] > bbox[0] , : ]\n",
    "\n",
    "\n",
    "df = df.sort_values(by=\"x_longitude\")\n",
    "\n",
    "df = df.loc[df[\"x_longitude\"] < bbox[3] , : ]\n",
    "df = df.loc[df[\"x_longitude\"] > bbox[2] , : ]\n",
    "\n",
    "df.head()"
   ]
  },
  {
   "cell_type": "code",
   "execution_count": 6,
   "metadata": {},
   "outputs": [
    {
     "name": "stdout",
     "output_type": "stream",
     "text": [
      "<class 'pandas.core.frame.DataFrame'>\n",
      "Int64Index: 652581 entries, 22472174 to 23393407\n",
      "Data columns (total 3 columns):\n",
      " #   Column       Non-Null Count   Dtype  \n",
      "---  ------       --------------   -----  \n",
      " 0   siret        652581 non-null  int64  \n",
      " 1   y_latitude   652581 non-null  float64\n",
      " 2   x_longitude  652581 non-null  float64\n",
      "dtypes: float64(2), int64(1)\n",
      "memory usage: 19.9 MB\n"
     ]
    }
   ],
   "source": [
    "df.info()"
   ]
  },
  {
   "cell_type": "code",
   "execution_count": 7,
   "metadata": {},
   "outputs": [],
   "source": [
    "df[\"geometry\"] = gpd.points_from_xy(df[\"x_longitude\"], df[\"y_latitude\"], z=None, crs=None)\n",
    "\n",
    "gdf = gpd.GeoDataFrame(df)"
   ]
  },
  {
   "cell_type": "code",
   "execution_count": 8,
   "metadata": {},
   "outputs": [
    {
     "name": "stdout",
     "output_type": "stream",
     "text": [
      "<class 'geopandas.geodataframe.GeoDataFrame'>\n",
      "Int64Index: 652581 entries, 22472174 to 23393407\n",
      "Data columns (total 4 columns):\n",
      " #   Column       Non-Null Count   Dtype   \n",
      "---  ------       --------------   -----   \n",
      " 0   siret        652581 non-null  int64   \n",
      " 1   y_latitude   652581 non-null  float64 \n",
      " 2   x_longitude  652581 non-null  float64 \n",
      " 3   geometry     652581 non-null  geometry\n",
      "dtypes: float64(2), geometry(1), int64(1)\n",
      "memory usage: 24.9 MB\n"
     ]
    }
   ],
   "source": [
    "gdf.info()"
   ]
  },
  {
   "cell_type": "code",
   "execution_count": 9,
   "metadata": {},
   "outputs": [],
   "source": [
    "#df.to_csv(data_sources[\"out\"], index = False)\n",
    "gdf.to_parquet(data_sources[\"out\"])\n",
    "del df, gdf"
   ]
  }
 ],
 "metadata": {
  "kernelspec": {
   "display_name": "Python 3.10.4 ('venv': venv)",
   "language": "python",
   "name": "python3"
  },
  "language_info": {
   "codemirror_mode": {
    "name": "ipython",
    "version": 3
   },
   "file_extension": ".py",
   "mimetype": "text/x-python",
   "name": "python",
   "nbconvert_exporter": "python",
   "pygments_lexer": "ipython3",
   "version": "3.10.4"
  },
  "orig_nbformat": 4,
  "vscode": {
   "interpreter": {
    "hash": "6d68fed181c4411da2d20249d8399ffdc26922a2b13846caaf921533b65a9c68"
   }
  }
 },
 "nbformat": 4,
 "nbformat_minor": 2
}
